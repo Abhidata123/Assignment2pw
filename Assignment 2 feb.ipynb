{
 "cells": [
  {
   "cell_type": "code",
   "execution_count": 1,
   "id": "b37d13e3-9a32-4016-9fd9-384537d6bc0b",
   "metadata": {},
   "outputs": [],
   "source": [
    "# 1 Explain example of a for and while loop ?"
   ]
  },
  {
   "cell_type": "code",
   "execution_count": 6,
   "id": "495bffa5-3f22-4488-beb4-a1dc4cf214bb",
   "metadata": {},
   "outputs": [],
   "source": [
    "l = [1,3,4,5,6,6,8]  # For loop\n",
    "l1 = []\n",
    "for i in l:\n",
    "    l1.append(i**3)   "
   ]
  },
  {
   "cell_type": "code",
   "execution_count": 7,
   "id": "c9201c68-bb26-488d-9971-a5da27b8df90",
   "metadata": {},
   "outputs": [
    {
     "data": {
      "text/plain": [
       "[1, 27, 64, 125, 216, 216, 512]"
      ]
     },
     "execution_count": 7,
     "metadata": {},
     "output_type": "execute_result"
    }
   ],
   "source": [
    "l1"
   ]
  },
  {
   "cell_type": "code",
   "execution_count": null,
   "id": "917198aa-2517-4172-ac74-300f8a7849b2",
   "metadata": {},
   "outputs": [],
   "source": [
    "# Print the tables of a number\n",
    " "
   ]
  },
  {
   "cell_type": "code",
   "execution_count": 1,
   "id": "42be3fd2-e249-4c26-bc07-795ef1a2cb98",
   "metadata": {},
   "outputs": [
    {
     "name": "stdin",
     "output_type": "stream",
     "text": [
      "Enter your numnbers 15\n"
     ]
    },
    {
     "name": "stdout",
     "output_type": "stream",
     "text": [
      "15 * 1 = 15\n",
      "15 * 2 = 30\n",
      "15 * 3 = 45\n",
      "15 * 4 = 60\n",
      "15 * 5 = 75\n",
      "15 * 6 = 90\n",
      "15 * 7 = 105\n",
      "15 * 8 = 120\n",
      "15 * 9 = 135\n",
      "15 * 10 = 150\n"
     ]
    }
   ],
   "source": [
    "n = int(input(\"Enter your numnbers\"))\n",
    "i = 1\n",
    "while i <=10:\n",
    "    result = n*i\n",
    "    print(n,\"*\", i, \"=\", result)\n",
    "    i = i+1  "
   ]
  },
  {
   "cell_type": "code",
   "execution_count": 2,
   "id": "947a1b62-a0a0-4ee1-993f-c095ad0ffd89",
   "metadata": {},
   "outputs": [],
   "source": [
    "# 2 Print the sum and multiply of first 10 natural number using for and while loop"
   ]
  },
  {
   "cell_type": "code",
   "execution_count": 3,
   "id": "61b2adb5-6dcc-49ed-84a8-dba02ac6c4e0",
   "metadata": {},
   "outputs": [
    {
     "name": "stdin",
     "output_type": "stream",
     "text": [
      "Enter your limit 10\n"
     ]
    },
    {
     "data": {
      "text/plain": [
       "55"
      ]
     },
     "execution_count": 3,
     "metadata": {},
     "output_type": "execute_result"
    }
   ],
   "source": [
    "n = int(input(\"Enter your limit\"))\n",
    "starting_point = 0\n",
    "counter = 1\n",
    "while counter <= n:\n",
    "    starting_point = starting_point + counter\n",
    "    counter = counter + 1\n",
    "starting_point"
   ]
  },
  {
   "cell_type": "code",
   "execution_count": 20,
   "id": "724ec714-073b-4801-b184-a7781edf4b29",
   "metadata": {},
   "outputs": [
    {
     "name": "stdin",
     "output_type": "stream",
     "text": [
      "Enter the natural numbers 10\n"
     ]
    },
    {
     "data": {
      "text/plain": [
       "55"
      ]
     },
     "execution_count": 20,
     "metadata": {},
     "output_type": "execute_result"
    }
   ],
   "source": [
    " n = int(input(\"Enter the natural numbers\"))  # for loop used in addition of number.\n",
    "sum = 0\n",
    "for i in range(1, n+1):\n",
    "    sum = sum+i\n",
    "sum"
   ]
  },
  {
   "cell_type": "code",
   "execution_count": 21,
   "id": "fd5a75fb-1648-41ca-8257-091f05a484e8",
   "metadata": {},
   "outputs": [
    {
     "name": "stdin",
     "output_type": "stream",
     "text": [
      "Enter the natural numbers 10\n"
     ]
    },
    {
     "data": {
      "text/plain": [
       "3628800"
      ]
     },
     "execution_count": 21,
     "metadata": {},
     "output_type": "execute_result"
    }
   ],
   "source": [
    "n = int(input(\"Enter the natural numbers\")) # while loop for multiply program.\n",
    "mul = 1\n",
    "for i in range(1, n+1):\n",
    "    mul = mul*i\n",
    "    i = i-1\n",
    "mul"
   ]
  },
  {
   "cell_type": "code",
   "execution_count": 23,
   "id": "90582bfe-44a0-4d41-b7eb-c86598ae7861",
   "metadata": {},
   "outputs": [
    {
     "name": "stdin",
     "output_type": "stream",
     "text": [
      "Enter the natural numbers 5\n"
     ]
    },
    {
     "data": {
      "text/plain": [
       "120"
      ]
     },
     "execution_count": 23,
     "metadata": {},
     "output_type": "execute_result"
    }
   ],
   "source": [
    "n = int(input(\"Enter the natural numbers\"))  # while loop for multiply program.\n",
    "mul = 1\n",
    "fun = 1\n",
    "while fun <= n:\n",
    "    mul = mul* fun\n",
    "    fun = fun + 1\n",
    "mul"
   ]
  },
  {
   "cell_type": "code",
   "execution_count": 24,
   "id": "93f997ad-11f1-4fef-935e-6699a64cc9cf",
   "metadata": {},
   "outputs": [],
   "source": [
    "# 3. Program for computing electrictiy bil."
   ]
  },
  {
   "cell_type": "code",
   "execution_count": 3,
   "id": "dd381423-687b-42e7-af8b-712e02afafe0",
   "metadata": {},
   "outputs": [
    {
     "name": "stdin",
     "output_type": "stream",
     "text": [
      "Enter The Amount Of Units Consumed: 310\n"
     ]
    },
    {
     "name": "stdout",
     "output_type": "stream",
     "text": [
      "Amount To Be Paid Is: 2250.0\n",
      "Process Completed\n"
     ]
    }
   ],
   "source": [
    "u = int(input('Enter The Amount Of Units Consumed:'))  \n",
    "if u <= 100:\n",
    "    amt = u*4.5\n",
    "    print('Amount To Be Paid Is:',amt)\n",
    "elif u <= 200 and u > 100:\n",
    "    amt = (100*4.5) + ((u-100)*6)\n",
    "    print('Amount To Be Paid Is:',amt)\n",
    "elif u <= 300 and u > 200:\n",
    "    amt = (100*4.5) + (100*6) + ((u-200)*10)\n",
    "    print('Amount To Be Paid Is:',amt)\n",
    "else:\n",
    "    amt = (100*4.5) + (100*6) + (100*10) + ((u-300)*20)\n",
    "    print('Amount To Be Paid Is:',amt)\n",
    "print('Process Completed')   "
   ]
  },
  {
   "cell_type": "code",
   "execution_count": 4,
   "id": "4ef4efac-f7c9-4011-9705-596b26ea47c3",
   "metadata": {},
   "outputs": [],
   "source": [
    "# Make a program of cube of 1 to 100 number"
   ]
  },
  {
   "cell_type": "code",
   "execution_count": 46,
   "id": "7121c5f5-b9c8-4638-93d9-75c0aa933efe",
   "metadata": {},
   "outputs": [
    {
     "name": "stdin",
     "output_type": "stream",
     "text": [
      "Enter your numer upto which you want to make cube 10\n"
     ]
    },
    {
     "data": {
      "text/plain": [
       "[1, 8, 27, 64, 125, 216, 343, 512, 729]"
      ]
     },
     "execution_count": 46,
     "metadata": {},
     "output_type": "execute_result"
    }
   ],
   "source": [
    "n = int(input(\"Enter your numer upto which you want to make cube\"))\n",
    "m = []\n",
    "p = []\n",
    "for i in range(1, n):\n",
    "        m.append(i**3)\n",
    "m\n",
    "        "
   ]
  },
  {
   "cell_type": "code",
   "execution_count": 81,
   "id": "8ae3d76e-ba23-4a89-b844-526a21c0b0b1",
   "metadata": {},
   "outputs": [
    {
     "name": "stdin",
     "output_type": "stream",
     "text": [
      "Enter the number of cube  10\n"
     ]
    },
    {
     "ename": "TypeError",
     "evalue": "'builtin_function_or_method' object is not subscriptable",
     "output_type": "error",
     "traceback": [
      "\u001b[0;31m---------------------------------------------------------------------------\u001b[0m",
      "\u001b[0;31mTypeError\u001b[0m                                 Traceback (most recent call last)",
      "Cell \u001b[0;32mIn[81], line 5\u001b[0m\n\u001b[1;32m      3\u001b[0m p \u001b[38;5;241m=\u001b[39m[]\n\u001b[1;32m      4\u001b[0m \u001b[38;5;28;01mwhile\u001b[39;00m a \u001b[38;5;241m<\u001b[39m\u001b[38;5;241m=\u001b[39m n:\n\u001b[0;32m----> 5\u001b[0m     \u001b[43mp\u001b[49m\u001b[38;5;241;43m.\u001b[39;49m\u001b[43mappend\u001b[49m\u001b[43m[\u001b[49m\u001b[43ma\u001b[49m\u001b[38;5;241;43m*\u001b[39;49m\u001b[38;5;241;43m*\u001b[39;49m\u001b[38;5;241;43m3\u001b[39;49m\u001b[43m]\u001b[49m\n\u001b[1;32m      6\u001b[0m     a \u001b[38;5;241m=\u001b[39m a \u001b[38;5;241m+\u001b[39m \u001b[38;5;241m1\u001b[39m\n\u001b[1;32m      7\u001b[0m     \u001b[38;5;28mprint\u001b[39m (a\u001b[38;5;241m*\u001b[39m\u001b[38;5;241m*\u001b[39m\u001b[38;5;241m3\u001b[39m)\n",
      "\u001b[0;31mTypeError\u001b[0m: 'builtin_function_or_method' object is not subscriptable"
     ]
    }
   ],
   "source": [
    "n = int(input(\"Enter the number of cube \"))\n",
    "a = 0\n",
    "p =[]\n",
    "while a <= n:\n",
    "    p.append[a**3]\n",
    "    a = a + 1\n",
    "    print (a**3)"
   ]
  },
  {
   "cell_type": "code",
   "execution_count": 47,
   "id": "f7cd9809-0e41-4d8e-815f-9a5e5c4165f6",
   "metadata": {},
   "outputs": [],
   "source": [
    "# 5. Write a program to filter count the vowel in a given string."
   ]
  },
  {
   "cell_type": "code",
   "execution_count": 65,
   "id": "8fe65b71-67d4-46c6-bdab-23669e835a31",
   "metadata": {},
   "outputs": [
    {
     "name": "stdout",
     "output_type": "stream",
     "text": [
      "Number of vowel in a string 11\n"
     ]
    }
   ],
   "source": [
    "string = \" I want to become a data scientist \"\n",
    "count = 0\n",
    "j = 0\n",
    "for j in range(len(string)):\n",
    "    if (string[j] == \"a\" or string[j] == \"e\" or string[j]== \"i\" or string[j] == \"o\" or string[j] == \"u\"):\n",
    "        count = count +1\n",
    "print(\"Number of vowel in a string\", count )\n",
    "        \n",
    "    "
   ]
  },
  {
   "cell_type": "code",
   "execution_count": null,
   "id": "981c49a7-5c82-442b-84db-7ce107af85a6",
   "metadata": {},
   "outputs": [],
   "source": []
  }
 ],
 "metadata": {
  "kernelspec": {
   "display_name": "Python 3 (ipykernel)",
   "language": "python",
   "name": "python3"
  },
  "language_info": {
   "codemirror_mode": {
    "name": "ipython",
    "version": 3
   },
   "file_extension": ".py",
   "mimetype": "text/x-python",
   "name": "python",
   "nbconvert_exporter": "python",
   "pygments_lexer": "ipython3",
   "version": "3.10.8"
  }
 },
 "nbformat": 4,
 "nbformat_minor": 5
}
